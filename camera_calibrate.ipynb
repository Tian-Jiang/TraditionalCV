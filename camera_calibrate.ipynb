{
 "cells": [
  {
   "cell_type": "code",
   "execution_count": 4,
   "metadata": {
    "scrolled": true
   },
   "outputs": [
    {
     "name": "stdout",
     "output_type": "stream",
     "text": [
      "Warning: ret = False for camera_cal_pic/calibration1.jpg\n",
      "Warning: ret = False for camera_cal_pic/calibration4.jpg\n",
      "Warning: ret = False for camera_cal_pic/calibration5.jpg\n"
     ]
    },
    {
     "ename": "AttributeError",
     "evalue": "module 'cv2.cv2' has no attribute 'calibarateCamera'",
     "output_type": "error",
     "traceback": [
      "\u001b[1;31m---------------------------------------------------------------------------\u001b[0m",
      "\u001b[1;31mAttributeError\u001b[0m                            Traceback (most recent call last)",
      "\u001b[1;32m<ipython-input-4-e63058c0f489>\u001b[0m in \u001b[0;36m<module>\u001b[1;34m\u001b[0m\n\u001b[0;32m     87\u001b[0m     \u001b[1;32mreturn\u001b[0m \u001b[0mmtx\u001b[0m\u001b[1;33m,\u001b[0m \u001b[0mdist\u001b[0m\u001b[1;33m\u001b[0m\u001b[1;33m\u001b[0m\u001b[0m\n\u001b[0;32m     88\u001b[0m \u001b[1;33m\u001b[0m\u001b[0m\n\u001b[1;32m---> 89\u001b[1;33m \u001b[0mmtx\u001b[0m\u001b[1;33m,\u001b[0m \u001b[0mdist\u001b[0m \u001b[1;33m=\u001b[0m \u001b[0mcalibrate_camera\u001b[0m\u001b[1;33m(\u001b[0m\u001b[1;33m)\u001b[0m\u001b[1;33m\u001b[0m\u001b[1;33m\u001b[0m\u001b[0m\n\u001b[0m\u001b[0;32m     90\u001b[0m \u001b[0mprint\u001b[0m \u001b[1;33m(\u001b[0m\u001b[1;34m\"mtx, dist\"\u001b[0m\u001b[1;33m,\u001b[0m \u001b[0mmtx\u001b[0m\u001b[1;33m,\u001b[0m \u001b[0mdist\u001b[0m\u001b[1;33m)\u001b[0m\u001b[1;33m\u001b[0m\u001b[1;33m\u001b[0m\u001b[0m\n\u001b[0;32m     91\u001b[0m \u001b[0mimg\u001b[0m \u001b[1;33m=\u001b[0m \u001b[0mcv2\u001b[0m\u001b[1;33m.\u001b[0m\u001b[0mimread\u001b[0m\u001b[1;33m(\u001b[0m\u001b[1;34m'./camera_cal_pic/calibration1.jpg'\u001b[0m\u001b[1;33m)\u001b[0m\u001b[1;33m\u001b[0m\u001b[1;33m\u001b[0m\u001b[0m\n",
      "\u001b[1;32m<ipython-input-4-e63058c0f489>\u001b[0m in \u001b[0;36mcalibrate_camera\u001b[1;34m()\u001b[0m\n\u001b[0;32m     81\u001b[0m     \u001b[1;31m#利用图像中2d点和空间3d点计算旋转和平移矩阵，函数使用cv2.calibrateCamera，返回mtx（相机内参矩阵）, dist（畸变矩阵）\u001b[0m\u001b[1;33m\u001b[0m\u001b[1;33m\u001b[0m\u001b[1;33m\u001b[0m\u001b[0m\n\u001b[0;32m     82\u001b[0m     \u001b[1;31m################填空2（一行代码）################################################\u001b[0m\u001b[1;33m\u001b[0m\u001b[1;33m\u001b[0m\u001b[1;33m\u001b[0m\u001b[0m\n\u001b[1;32m---> 83\u001b[1;33m     \u001b[0mret\u001b[0m\u001b[1;33m,\u001b[0m \u001b[0mmtx\u001b[0m\u001b[1;33m,\u001b[0m \u001b[0mdist\u001b[0m\u001b[1;33m,\u001b[0m \u001b[0mrvecs\u001b[0m\u001b[1;33m,\u001b[0m \u001b[0mtvecs\u001b[0m \u001b[1;33m=\u001b[0m \u001b[0mcv2\u001b[0m\u001b[1;33m.\u001b[0m\u001b[0mcalibarateCamera\u001b[0m\u001b[1;33m(\u001b[0m\u001b[0mobj3DList\u001b[0m\u001b[1;33m,\u001b[0m \u001b[0mobj2DList\u001b[0m\u001b[1;33m,\u001b[0m \u001b[0mimg_size\u001b[0m\u001b[1;33m,\u001b[0m \u001b[1;32mNone\u001b[0m\u001b[1;33m,\u001b[0m \u001b[1;32mNone\u001b[0m\u001b[1;33m)\u001b[0m\u001b[1;33m\u001b[0m\u001b[1;33m\u001b[0m\u001b[0m\n\u001b[0m\u001b[0;32m     84\u001b[0m     \u001b[1;31m##############################################################################\u001b[0m\u001b[1;33m\u001b[0m\u001b[1;33m\u001b[0m\u001b[1;33m\u001b[0m\u001b[0m\n\u001b[0;32m     85\u001b[0m \u001b[1;33m\u001b[0m\u001b[0m\n",
      "\u001b[1;31mAttributeError\u001b[0m: module 'cv2.cv2' has no attribute 'calibarateCamera'"
     ]
    }
   ],
   "source": [
    "#coding:utf-8\n",
    "\"\"\"\n",
    "相机校正\n",
    "学会用棋盘格进行相机校正（张正友标定法）\n",
    "熟悉opencv相关函数\n",
    "cv2.findChessboardCorners\n",
    "cv2.cornerSubPix\n",
    "cv2.drawChessboardCorners\n",
    "cv2.calibrateCamera\n",
    "cv2.undistort\n",
    "\"\"\"\n",
    "import numpy as np\n",
    "import cv2\n",
    "\n",
    "def calibrate_camera():\n",
    "    #每个校准图像映射到棋盘角到数量\n",
    "    objPoints = {\n",
    "        1: (9, 6),\n",
    "        2: (9, 6),\n",
    "        3: (9, 6),\n",
    "        4: (9, 6),\n",
    "        5: (9, 6),\n",
    "        6: (9, 6),\n",
    "        7: (9, 6),\n",
    "        8: (9, 6),\n",
    "        9: (9, 6),\n",
    "        10: (9, 6),\n",
    "        11: (9, 6),\n",
    "        12: (9, 6),\n",
    "        13: (9, 6),\n",
    "        14: (9, 6),\n",
    "        15: (9, 6),\n",
    "        16: (9, 6),\n",
    "        17: (9, 6),\n",
    "        18: (9, 6),\n",
    "        19: (9, 6),\n",
    "        20: (9, 6),\n",
    "    }\n",
    "    #目标点空间坐标\n",
    "    obj3DList = []\n",
    "    \n",
    "    #图像中棋盘格中的2D点\n",
    "    obj2DList = []\n",
    "\n",
    "    for k in objPoints:\n",
    "        nx, ny = objPoints[k]\n",
    "        ######棋盘格对应3D坐标点，x为0-8， y为0-4（对应棋盘格横着9个点，纵着5个点）， z = 0\n",
    "        obj = np.zeros((nx * ny, 3), np.float32)\n",
    "\n",
    "        obj[:, :2] = np.mgrid[0: nx, 0: ny].T.reshape(-1, 2)\n",
    "\n",
    "        fname = 'camera_cal_pic/calibration%s.jpg' % str(k)\n",
    "        img = cv2.imread(fname)\n",
    "        #将图像转换为灰度图\n",
    "        gray = cv2.cvtColor(img, cv2.COLOR_BGR2GRAY)\n",
    "        \n",
    "        ########查找角点，利用cv2.findChessboardCorners函数，函数返回\n",
    "        ####ret：是否查找到； corners：角点坐标\n",
    "        #####################填空1 （一行代码）#####################################\n",
    "        \n",
    "        ret, corners = cv2.findChessboardCorners(gray, (nx, ny), None)\n",
    "        #########################################################################\n",
    "\n",
    "        if ret == True:\n",
    "            obj3DList.append(obj)\n",
    "            #利用cv2.cornerSubPix可以更精细的查找角点坐标，如果查找到了，用这个，没查找到用cv2.findChessboardCorners中找到的角点\n",
    "            corners2 = cv2.cornerSubPix(gray, corners, (5, 5), (-1, -1), criteria=(cv2.TERM_CRITERIA_MAX_ITER | cv2.TERM_CRITERIA_EPS, 30, 0.001))\n",
    "            if corners2.any():\n",
    "                obj2DList.append(corners2)\n",
    "            else:\n",
    "                obj2DList.append(corners)\n",
    "            #可以利用cv2.drawChessboardCorners显示每张图查找到的角点的坐标\n",
    "            # cv2.drawChessboardCorners(img, (nx, ny), corners, ret)\n",
    "            # cv2.imshow(\"img\", img)\n",
    "            # cv2.waitKey(0)\n",
    "        else:\n",
    "            print('Warning: ret = %s for %s' % (ret, fname))\n",
    "\n",
    "    img = cv2.imread('testImage/straight_lines1.jpg')\n",
    "    img_size = (img.shape[1], img.shape[0])\n",
    "    #利用图像中2d点和空间3d点计算旋转和平移矩阵，函数使用cv2.calibrateCamera，返回mtx（相机内参矩阵）, dist（畸变矩阵）\n",
    "    ################填空2（一行代码）################################################\n",
    "    ret, mtx, dist, rvecs, tvecs = cv2.calibrateCamera(obj3DList, obj2DList, img_size, None, None)\n",
    "    ##############################################################################\n",
    "    \n",
    "\n",
    "    return mtx, dist\n",
    "\n",
    "mtx, dist = calibrate_camera()\n",
    "print (\"mtx, dist\", mtx, dist)\n",
    "img = cv2.imread('./camera_cal_pic/calibration1.jpg')\n",
    "\n",
    "##########将img进行校正，利用cv2.undistort这个函数，根据相机内参和外参进行相机校正，校正后的图像为dst\n",
    "\n",
    "####################填空3（一行代码）#################################################\n",
    "dst = cv2.undistort(img, mtx, dist, None, mtx)\n",
    "###################################################################################\n",
    "\n",
    "cv2.imwrite('./camera_cal_pic_undistort/calibration1_undistort.jpg', dst)\n"
   ]
  },
  {
   "cell_type": "code",
   "execution_count": 23,
   "metadata": {},
   "outputs": [
    {
     "name": "stdout",
     "output_type": "stream",
     "text": [
      "['name', 'alice', 'distance', 'bob']\n",
      "name\n",
      "(<cell at 0x0000019AF89A96A0: function object at 0x0000019AF899BE50>,)\n",
      "alice\n",
      "(<cell at 0x0000019AF89A96A0: function object at 0x0000019AF899BE50>,)\n",
      "distance\n",
      "(<cell at 0x0000019AF89A96A0: function object at 0x0000019AF899BE50>,)\n",
      "bob\n",
      "(<cell at 0x0000019AF89A96A0: function object at 0x0000019AF899BE50>,)\n",
      "['bob', 'name', 'alice', 'distance']\n"
     ]
    }
   ],
   "source": [
    "import random\n",
    "def gcd(p1, p2):  \n",
    "    return random.randint(400,500)\n",
    "\n",
    "def sbd(patches):\n",
    "    def gdop(path):\n",
    "        d = 0\n",
    "        print(path)\n",
    "        for i,_ in enumerate(path[:-1]):\n",
    "            d += gcd(path[i], path[i+1])\n",
    "        print(gdop.__closure__)\n",
    "        return d\n",
    "    return sorted(patches, key=gdop)\n",
    "\n",
    "\n",
    "\n",
    "temp = sbd(['name','alice','distance','bob'])\n",
    "print(temp)"
   ]
  },
  {
   "cell_type": "code",
   "execution_count": 8,
   "metadata": {},
   "outputs": [
    {
     "ename": "TypeError",
     "evalue": "'Demo' object is not callable",
     "output_type": "error",
     "traceback": [
      "\u001b[1;31m---------------------------------------------------------------------------\u001b[0m",
      "\u001b[1;31mTypeError\u001b[0m                                 Traceback (most recent call last)",
      "\u001b[1;32m<ipython-input-8-852caf1184f5>\u001b[0m in \u001b[0;36m<module>\u001b[1;34m\u001b[0m\n\u001b[0;32m     13\u001b[0m         \u001b[0mprint\u001b[0m\u001b[1;33m(\u001b[0m\u001b[1;34m'345'\u001b[0m\u001b[1;33m)\u001b[0m\u001b[1;33m\u001b[0m\u001b[1;33m\u001b[0m\u001b[0m\n\u001b[0;32m     14\u001b[0m \u001b[1;33m\u001b[0m\u001b[0m\n\u001b[1;32m---> 15\u001b[1;33m \u001b[0md\u001b[0m \u001b[1;33m=\u001b[0m \u001b[0mDemo\u001b[0m\u001b[1;33m(\u001b[0m\u001b[1;33m)\u001b[0m\u001b[1;33m\u001b[0m\u001b[1;33m\u001b[0m\u001b[0m\n\u001b[0m",
      "\u001b[1;31mTypeError\u001b[0m: 'Demo' object is not callable"
     ]
    }
   ],
   "source": [
    "class KuoZhan():\n",
    "    def __call__(self, cls):\n",
    "        self.cls = cls\n",
    "        self.cls.func = self.func2\n",
    "        self.cls.name = '123'\n",
    "        return self.cls()\n",
    "    def func2(self):\n",
    "        print('234')\n",
    "        \n",
    "@KuoZhan()\n",
    "class Demo():\n",
    "    def func(self):\n",
    "        print('345')\n",
    "\n",
    "d = Demo()"
   ]
  },
  {
   "cell_type": "code",
   "execution_count": 33,
   "metadata": {},
   "outputs": [
    {
     "name": "stdout",
     "output_type": "stream",
     "text": [
      "345\n",
      "234\n",
      "123\n"
     ]
    }
   ],
   "source": [
    "class KuoZhan():\n",
    "    def __call__(self, cls):\n",
    "        self.cls = cls\n",
    "        self.cls.name = '123'\n",
    "        self.cls.func2 = self.func2\n",
    "        return self.newfunc\n",
    "    \n",
    "    def newfunc(self):                \n",
    "        return self.cls()\n",
    "    \n",
    "    def func2(self):\n",
    "        print('234')\n",
    "        \n",
    "@KuoZhan()\n",
    "class Demo():\n",
    "    def func(self):\n",
    "        print('345')\n",
    "\n",
    "d = Demo()\n",
    "d.func()\n",
    "d.func2()\n",
    "print(d.name)"
   ]
  },
  {
   "cell_type": "code",
   "execution_count": 1,
   "metadata": {},
   "outputs": [],
   "source": [
    "m = {'-1':1, '-1':3}"
   ]
  },
  {
   "cell_type": "code",
   "execution_count": 2,
   "metadata": {},
   "outputs": [
    {
     "name": "stdout",
     "output_type": "stream",
     "text": [
      "{'-1': 3}\n"
     ]
    }
   ],
   "source": [
    "print(m)"
   ]
  },
  {
   "cell_type": "code",
   "execution_count": null,
   "metadata": {},
   "outputs": [],
   "source": []
  }
 ],
 "metadata": {
  "kernelspec": {
   "display_name": "Python 3",
   "language": "python",
   "name": "python3"
  },
  "language_info": {
   "codemirror_mode": {
    "name": "ipython",
    "version": 3
   },
   "file_extension": ".py",
   "mimetype": "text/x-python",
   "name": "python",
   "nbconvert_exporter": "python",
   "pygments_lexer": "ipython3",
   "version": "3.8.5"
  }
 },
 "nbformat": 4,
 "nbformat_minor": 4
}
